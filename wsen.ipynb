{
 "cells": [
  {
   "cell_type": "code",
   "execution_count": 9,
   "metadata": {},
   "outputs": [
    {
     "data": {
      "text/plain": [
       "'\\nprint(name)\\nprint(word)  \\nprint(countword)\\nprint(date)   \\nprint(tot)\\nprint(pos)\\nprint(neg)\\n'"
      ]
     },
     "execution_count": 9,
     "metadata": {},
     "output_type": "execute_result"
    }
   ],
   "source": [
    "import matplotlib.pyplot as plt\n",
    "from textblob import TextBlob\n",
    "name={}       \n",
    "word={}       \n",
    "countword={}  \n",
    "date={}       \n",
    "datecheck={}\n",
    "temp={}\n",
    "tot=0\n",
    "pos=0\n",
    "neg=0;\n",
    "\n",
    "f=open('w.txt','r')     # opens a txt file which contains chat\n",
    "#print(f.read(),end=\"\\n\\n\\n\")\n",
    "for line in f:\n",
    " #print(line)\n",
    " line=line.strip()\n",
    " #print(line)\n",
    " if line:\n",
    "    #mylist[0]=date and time , mylist[1]=chat\n",
    "    mylist =line.split(\"- \")\n",
    "    #print(mylist)\n",
    "    if len(mylist)>1:\n",
    "      #mylist1[0]=name,mylist[1]=text\n",
    "      mylist1=mylist[1].split(': ')\n",
    "      \n",
    "      #dateit[0]=date,dateit[1]=time\n",
    "      dateit=mylist[0].split(',')\n",
    "      if dateit[0] not in datecheck:\n",
    "        datecheck[dateit[0]]=dateit[0]\n",
    "        date[dateit[0]]={}\n",
    "      if mylist1[0] not in name:\n",
    "         name[mylist1[0]]=1\n",
    "         word[mylist1[0]]={}\n",
    "         countword[mylist1[0]]=0\n",
    "      \n",
    "         \n",
    "      else:\n",
    "        name[mylist1[0]]+=1\n",
    "      chatting=mylist1[1].split(' ')\n",
    "      for wording in chatting:\n",
    "        if wording in word[mylist1[0]]:\n",
    "            word[mylist1[0]][wording]+=1\n",
    "        else:\n",
    "            word[mylist1[0]][wording]=1;\n",
    "        testimonial = TextBlob(wording)\n",
    "        tot+=testimonial.sentiment.polarity\n",
    "        if testimonial.sentiment.polarity>0:\n",
    "           pos+=testimonial.sentiment.polarity\n",
    "        else:\n",
    "          neg+=testimonial.sentiment.polarity\n",
    "        countword[mylist1[0]]+=1\n",
    "        date[dateit[0]][mylist1[0]]=countword[mylist1[0]]\n",
    "'''\n",
    "print(name)\n",
    "print(word)  \n",
    "print(countword)\n",
    "print(date)   \n",
    "print(tot)\n",
    "print(pos)\n",
    "print(neg)\n",
    "'''"
   ]
  },
  {
   "cell_type": "code",
   "execution_count": 6,
   "metadata": {},
   "outputs": [
    {
     "name": "stdout",
     "output_type": "stream",
     "text": [
      "95.99951298701298 130.7620129870131 34.76250000000002\n"
     ]
    },
    {
     "data": {
      "image/png": "[encoded data removed]",
      "text/plain": [
       "<Figure size 432x288 with 1 Axes>"
      ]
     },
     "metadata": {},
     "output_type": "display_data"
    }
   ],
   "source": [
    "\n",
    "neg=abs(neg)\n",
    "tot=abs(tot)\n",
    "print(tot,pos,neg)\n",
    "labels = ['positive chat','negative chat','neutral chat']\n",
    "sizes = [pos,neg,tot]\n",
    "labels = ['positive chat','negative chat']\n",
    "sizes = [pos,neg]\n",
    "fig1, ax1 = plt.subplots()\n",
    "ax1.pie(sizes ,labels=labels, autopct='%1.1f%%')\n",
    "plt.title('Whatsapp Sentiment Analysis')\n",
    "plt.show()"
   ]
  },
  {
   "cell_type": "code",
   "execution_count": null,
   "metadata": {},
   "outputs": [],
   "source": []
  }
 ],
 "metadata": {
  "kernelspec": {
   "display_name": "Python 3",
   "language": "python",
   "name": "python3"
  },
  "language_info": {
   "codemirror_mode": {
    "name": "ipython",
    "version": 3
   },
   "file_extension": ".py",
   "mimetype": "text/x-python",
   "name": "python",
   "nbconvert_exporter": "python",
   "pygments_lexer": "ipython3",
   "version": "3.7.3"
  }
 },
 "nbformat": 4,
 "nbformat_minor": 2
}
