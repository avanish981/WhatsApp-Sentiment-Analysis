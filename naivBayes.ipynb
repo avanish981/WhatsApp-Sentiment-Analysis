{
 "cells": [
  {
   "cell_type": "code",
   "execution_count": 1,
   "metadata": {},
   "outputs": [
    {
     "name": "stdout",
     "output_type": "stream",
     "text": [
      "Training on 1890 instances, testing on 110 instances\n",
      "Training complete\n",
      "accuracy: 92.72727272727272 %\n",
      "Most Informative Features\n",
      "               ludicrous = True              neg : pos    =     14.0 : 1.0\n",
      "              astounding = True              pos : neg    =     13.6 : 1.0\n",
      "                  avoids = True              pos : neg    =     13.6 : 1.0\n",
      "                 idiotic = True              neg : pos    =     12.2 : 1.0\n",
      "             fascination = True              pos : neg    =     12.1 : 1.0\n",
      "             outstanding = True              pos : neg    =     10.9 : 1.0\n",
      "                  annual = True              pos : neg    =     10.6 : 1.0\n",
      "               atrocious = True              neg : pos    =     10.6 : 1.0\n",
      "               addresses = True              pos : neg    =      9.9 : 1.0\n",
      "                  hatred = True              pos : neg    =      9.9 : 1.0\n"
     ]
    }
   ],
   "source": [
    "from nltk.classify import NaiveBayesClassifier\n",
    "from nltk.corpus import movie_reviews\n",
    "import pickle\n",
    "import nltk.classify.util\n",
    "import sys\n",
    "%matplotlib inline\n",
    "import matplotlib.pyplot as plt\n",
    "import numpy as np\n",
    "\n",
    "\n",
    "def extract(words):\n",
    "    return dict([(word, True) for word in words])\n",
    "\n",
    "\n",
    "negative_ids = movie_reviews.fileids('neg')\n",
    "positive_ids = movie_reviews.fileids('pos')\n",
    "\n",
    "\n",
    "negative_features = [(extract(movie_reviews.words(fileids=[f])), 'neg') for f in negative_ids]\n",
    "positive_features = [(extract(movie_reviews.words(fileids=[f])), 'pos') for f in positive_ids]\n",
    "\n",
    "\n",
    "negative_cutoff = int(len(negative_features) * 99/100)\n",
    "positive_cutoff = int(len(positive_features) * 45/50)\n",
    "\n",
    "train_features = negative_features[:negative_cutoff] + positive_features[:positive_cutoff]\n",
    "test_features = negative_features[negative_cutoff:] + positive_features[positive_cutoff:]\n",
    "\n",
    "print('Training on %d instances, testing on %d instances' % (len(train_features), len(test_features)))\n",
    "classifier = NaiveBayesClassifier.train(train_features)\n",
    "print('Training complete')\n",
    "print('accuracy:', nltk.classify.util.accuracy(classifier, test_features)*100,'%')\n",
    "classifier.show_most_informative_features()\n",
    "\n",
    "\n",
    "f = open('classifier.pickle', 'wb')\n",
    "pickle.dump(classifier, f)\n",
    "f.close()\n"
   ]
  },
  {
   "cell_type": "code",
   "execution_count": 2,
   "metadata": {},
   "outputs": [
    {
     "name": "stdout",
     "output_type": "stream",
     "text": [
      "neg\n",
      "pos\n",
      "pos\n"
     ]
    }
   ],
   "source": [
    "\n",
    "f = open('classifier.pickle', 'rb')\n",
    "classifier = pickle.load(f)\n",
    "f.close()\n",
    "\n",
    "\n",
    "\n",
    "sentence=\"i do not love you go and try out another girl fuck you\"\n",
    "features = extract(sentence)\n",
    "print(classifier.classify(features))\n",
    "\n",
    "sentence=\"i love you  meet me again\"\n",
    "features = extract(sentence)\n",
    "print(classifier.classify(features))\n",
    "\n",
    "\n",
    "sentence=\"i am not saying that i don't love you\"\n",
    "features = extract(sentence)\n",
    "print(classifier.classify(features))\n"
   ]
  },
  {
   "cell_type": "code",
   "execution_count": 3,
   "metadata": {},
   "outputs": [
    {
     "name": "stdout",
     "output_type": "stream",
     "text": [
      " Baba  You should not go to Lucknow\n",
      "\n",
      " Mom  You have to take class so don't go there\n",
      "\n",
      " Ankit  There are NPTEL exam on 15 november and when will you study\n",
      "\n",
      " Badal  Don't  be foolish bro just go and participate\n",
      "\n",
      " DJ  Wow just go participate in Hackathon for better experience\n",
      "\n",
      " Brother  This is opportunity just go\n",
      "\n",
      " Sister  Go and try to explore yourself you will meet to great people\n",
      "\n",
      " Dad  so when are you going? \n",
      "\n",
      " Mom  so when are you going i will prepare food for you.\n",
      "\n",
      "6 3\n"
     ]
    }
   ],
   "source": [
    "opinion={}\n",
    "\n",
    "f=open('r.txt','r')\n",
    "pos,neg=0,0\n",
    "for line in f:\n",
    "    chat=line.split('-')[1].split(':')[1]\n",
    "    name=line.split('-')[1].split(':')[0]\n",
    "    print(name,chat)\n",
    "    if opinion.get(name,None) is None:\n",
    "        opinion[name]=[0,0]\n",
    "    res=classifier.classify(extract(chat))\n",
    "    if res=='pos':\n",
    "        pos+=1\n",
    "        opinion[name][0]+=1\n",
    "    else:\n",
    "        neg+=1\n",
    "        opinion[name][1]+=1\n",
    "print(pos,neg)"
   ]
  },
  {
   "cell_type": "code",
   "execution_count": 4,
   "metadata": {},
   "outputs": [
    {
     "data": {
      "image/png": "[encoded data removed]",
      "text/plain": [
       "<Figure size 432x288 with 1 Axes>"
      ]
     },
     "metadata": {},
     "output_type": "display_data"
    }
   ],
   "source": [
    "neg=abs(neg)\n",
    "labels = ['positive','negative']\n",
    "sizes = [pos,neg]\n",
    "fig1, ax1 = plt.subplots()\n",
    "ax1.pie(sizes ,labels=labels, autopct='%1.1f%%')\n",
    "plt.title('Whatsapp Sentiment Analysis')\n",
    "plt.show()"
   ]
  },
  {
   "cell_type": "code",
   "execution_count": 5,
   "metadata": {},
   "outputs": [
    {
     "data": {
      "image/png": "[encoded data removed]",
      "text/plain": [
       "<Figure size 432x288 with 1 Axes>"
      ]
     },
     "metadata": {
      "needs_background": "light"
     },
     "output_type": "display_data"
    }
   ],
   "source": [
    "names,positive,negative=[],[],[]\n",
    "for name in opinion:\n",
    "    names.append(name)\n",
    "    positive.append(opinion[name][0])\n",
    "    negative.append(opinion[name][1])\n",
    "    \n",
    "ind = np.arange(len(names))\n",
    "width=0.5\n",
    "max_x=max(positive)+max(negative)+1\n",
    "\n",
    "p1 = plt.bar(ind, positive, width,color='g')\n",
    "p2 = plt.bar(ind, negative, width, bottom=positive,color='r')\n",
    "\n",
    "\n",
    "\n",
    "\n",
    "plt.xlabel('Names')\n",
    "plt.ylabel('Sentiment')\n",
    "plt.title('Sentiment Analysis individual')\n",
    "\n",
    "plt.xticks(ind, names)\n",
    "plt.yticks(np.arange(0,max_x,1))\n",
    "plt.legend((p1[0], p2[0]), ('positive', 'Negative'))\n",
    "\n",
    "\n",
    "plt.show()"
   ]
  },
  {
   "cell_type": "code",
   "execution_count": null,
   "metadata": {},
   "outputs": [],
   "source": []
  }
 ],
 "metadata": {
  "kernelspec": {
   "display_name": "Python 3",
   "language": "python",
   "name": "python3"
  },
  "language_info": {
   "codemirror_mode": {
    "name": "ipython",
    "version": 3
   },
   "file_extension": ".py",
   "mimetype": "text/x-python",
   "name": "python",
   "nbconvert_exporter": "python",
   "pygments_lexer": "ipython3",
   "version": "3.7.3"
  }
 },
 "nbformat": 4,
 "nbformat_minor": 2
}
